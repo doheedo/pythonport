{
  "nbformat": 4,
  "nbformat_minor": 0,
  "metadata": {
    "colab": {
      "name": "1_5portphy.ipynb",
      "provenance": [],
      "authorship_tag": "ABX9TyO2VG0Pg4miqowJSqAZDIb9",
      "include_colab_link": true
    },
    "kernelspec": {
      "name": "python3",
      "display_name": "Python 3"
    },
    "language_info": {
      "name": "python"
    }
  },
  "cells": [
    {
      "cell_type": "markdown",
      "metadata": {
        "id": "view-in-github",
        "colab_type": "text"
      },
      "source": [
        "<a href=\"https://colab.research.google.com/github/doheedo/pythonport/blob/main/1_5portphy.ipynb\" target=\"_parent\"><img src=\"https://colab.research.google.com/assets/colab-badge.svg\" alt=\"Open In Colab\"/></a>"
      ]
    },
    {
      "cell_type": "code",
      "execution_count": null,
      "metadata": {
        "colab": {
          "base_uri": "https://localhost:8080/"
        },
        "id": "wlfWtQDsdCPm",
        "outputId": "69aa182e-fe84-4b51-de70-68d95e7320e5"
      },
      "outputs": [
        {
          "output_type": "stream",
          "name": "stdout",
          "text": [
            "3.5\n"
          ]
        }
      ],
      "source": [
        "nums = [1,2,3,4,5,6] #nums 리스트에 값을 저장\n",
        "print(sum(nums)/len(nums)) #Sum 함수로 합계를,len 함수로 데이터의 개수를 구한다"
      ]
    },
    {
      "cell_type": "code",
      "source": [
        "import numpy as np\n",
        "a = np.array([1,2,3,4,5,6]) #array() 함수로 리스트를 array 객체로 저장한다\n",
        "print(a.mean()) #객체의 mean()함수를 사용해 평균을 계산한다"
      ],
      "metadata": {
        "colab": {
          "base_uri": "https://localhost:8080/"
        },
        "id": "vzqTe91AiIKQ",
        "outputId": "a6f6d620-bac1-4a10-815f-077dbe9a52ec"
      },
      "execution_count": null,
      "outputs": [
        {
          "output_type": "stream",
          "name": "stdout",
          "text": [
            "3.5\n"
          ]
        }
      ]
    },
    {
      "cell_type": "code",
      "source": [
        "#사건과 확률을 case와 prob 리스트에 저장한다\n",
        "case = [1,2,3,4,5,6]\n",
        "prob = [1/6,1/6,1/6,1/6,1/6,1/6]\n",
        "#사건과 확률 리스트를 zip함수로 묶어 for 루프로 반복한다. 반복하는 동안 두 리스트에서 값을 받아 변수 c와 p에 저장하고 곱한 결과를 ex 변수에 저장한다\n",
        "ex=0.0\n",
        "for c,p in zip(case,prob):\n",
        "  ex=ex+c*p\n",
        "print(ex)#결과를 출력한다"
      ],
      "metadata": {
        "colab": {
          "base_uri": "https://localhost:8080/"
        },
        "id": "IJwcRW38jer_",
        "outputId": "36015c86-bdb8-42f7-c9d5-09f9ac60e119"
      },
      "execution_count": null,
      "outputs": [
        {
          "output_type": "stream",
          "name": "stdout",
          "text": [
            "3.5\n"
          ]
        }
      ]
    },
    {
      "cell_type": "code",
      "source": [
        "#이동평균\n",
        "#주가를 prices 리스트에 저장한다\n",
        "prices =[44800,44850,44600,43750,44000,43900,44350,45350,45500,45700]\n",
        "\n",
        "#5일 이동평균\n",
        "n=5\n",
        "\n",
        "#prices의 n번째 항목부터 마지막 항목까지 반복한다\n",
        "for p in prices[n:]:\n",
        "# prices 리스트를 반복하여 평균을 계산한다. \n",
        "# 다만 prices의 처음이 아닌 n번째부터 끝까지 반복한다.\n",
        "# 반복할 때마다 앞의 5개의 값을 가져와서 합계를 내고 평균을 계산한다.\n",
        "#항목 p의 index를 마지막 인덱스로 정한다\n",
        "  end_index = prices.index(p)\n",
        "#마지막 인덱스에서 n만큼 앞에 있는 시작 인덱스를 정한다\n",
        "  begin_index = end_index - n\n",
        "  #엔드인덱스와 비긴인덱스를 계산해 가져올 위치를 확인한다\n",
        "  print(begin_index,end_index)\n",
        "  #계산한 엔드인덱스와 비긴 인덱스를 갖고 프라이스 리스트에서 다섯개 항목을 확인한다\n",
        "  for p in prices[n:]:\n",
        "    end_index = prices.index(p)\n",
        "    begin_index = end_index - n\n",
        "    print(prices[begin_index:end_index])\n",
        "  "
      ],
      "metadata": {
        "colab": {
          "base_uri": "https://localhost:8080/"
        },
        "id": "5c87rewYlCQP",
        "outputId": "c5647524-e42c-4ce1-afc3-c9dfa79de9de"
      },
      "execution_count": null,
      "outputs": [
        {
          "output_type": "stream",
          "name": "stdout",
          "text": [
            "0 5\n",
            "[44800, 44850, 44600, 43750, 44000]\n",
            "[44850, 44600, 43750, 44000, 43900]\n",
            "[44600, 43750, 44000, 43900, 44350]\n",
            "[43750, 44000, 43900, 44350, 45350]\n",
            "[44000, 43900, 44350, 45350, 45500]\n",
            "1 6\n",
            "[44800, 44850, 44600, 43750, 44000]\n",
            "[44850, 44600, 43750, 44000, 43900]\n",
            "[44600, 43750, 44000, 43900, 44350]\n",
            "[43750, 44000, 43900, 44350, 45350]\n",
            "[44000, 43900, 44350, 45350, 45500]\n",
            "2 7\n",
            "[44800, 44850, 44600, 43750, 44000]\n",
            "[44850, 44600, 43750, 44000, 43900]\n",
            "[44600, 43750, 44000, 43900, 44350]\n",
            "[43750, 44000, 43900, 44350, 45350]\n",
            "[44000, 43900, 44350, 45350, 45500]\n",
            "3 8\n",
            "[44800, 44850, 44600, 43750, 44000]\n",
            "[44850, 44600, 43750, 44000, 43900]\n",
            "[44600, 43750, 44000, 43900, 44350]\n",
            "[43750, 44000, 43900, 44350, 45350]\n",
            "[44000, 43900, 44350, 45350, 45500]\n",
            "4 9\n",
            "[44800, 44850, 44600, 43750, 44000]\n",
            "[44850, 44600, 43750, 44000, 43900]\n",
            "[44600, 43750, 44000, 43900, 44350]\n",
            "[43750, 44000, 43900, 44350, 45350]\n",
            "[44000, 43900, 44350, 45350, 45500]\n"
          ]
        }
      ]
    },
    {
      "cell_type": "code",
      "source": [
        "for p in prices[n:]:\n",
        "  end_index=prices.index(p)\n",
        "  begin_index= end_index-n\n",
        "  print(sum(prices[begin_index:end_index])/n)"
      ],
      "metadata": {
        "colab": {
          "base_uri": "https://localhost:8080/"
        },
        "id": "AX4lVU8An629",
        "outputId": "fa051e48-0994-474d-98f0-6a602bf6e89c"
      },
      "execution_count": null,
      "outputs": [
        {
          "output_type": "stream",
          "name": "stdout",
          "text": [
            "44400.0\n",
            "44220.0\n",
            "44120.0\n",
            "44270.0\n",
            "44620.0\n"
          ]
        }
      ]
    },
    {
      "cell_type": "code",
      "source": [
        "# 가중평균\n",
        "scores = [ 82, 90, 76 ]\n",
        "weight = [ 0.2, 0.35, 0.45 ]\n",
        "#scores와 weight 리스트를 zip함수로 묶어 for 루프로 반복한다\n",
        "#wght_avg는 합계를 저장할 변수\n",
        "wgt_avg = 0.0\n",
        "#반복하는 동안 변수 s와 w에 저장하고 곱셈의 결과를 합한다\n",
        "for s,w in zip(scores,weight):\n",
        "  wgt_avg =wgt_avg+s*w\n",
        "print(wgt_avg)"
      ],
      "metadata": {
        "colab": {
          "base_uri": "https://localhost:8080/"
        },
        "id": "mcxjEp_PpYhN",
        "outputId": "06f86814-522a-46f0-d42e-486c23c0f8d2"
      },
      "execution_count": null,
      "outputs": [
        {
          "output_type": "stream",
          "name": "stdout",
          "text": [
            "82.1\n"
          ]
        }
      ]
    },
    {
      "cell_type": "markdown",
      "source": [
        ""
      ],
      "metadata": {
        "id": "NQOwsS4OqMXz"
      }
    },
    {
      "cell_type": "code",
      "source": [
        "# 분산\n",
        "nums = [ 1, 2, 3, 4, 5 ]\n",
        "\n",
        "avg = sum(nums) / len(nums)\n",
        "sumsquare = 0.0\n",
        "\n",
        "for n in nums:\n",
        "  sumsquare = sumsquare + (n - avg)**2\n",
        "\n",
        "var = sumsquare / (len(nums)-1)\n",
        "print(var)\n",
        "\n",
        "sumsquare = sum( (n-avg)**2 for n in nums )\n",
        "var = sumsquare / (len(nums)-1)\n",
        "\n",
        "print(var)\n",
        "\n",
        "import math\n",
        "\n",
        "stdev = math.sqrt(var) \n",
        "print(stdev)"
      ],
      "metadata": {
        "colab": {
          "base_uri": "https://localhost:8080/"
        },
        "id": "nFuCTS-Fpqu2",
        "outputId": "93403199-a257-4879-f01c-e9d729a7ddd5"
      },
      "execution_count": null,
      "outputs": [
        {
          "output_type": "stream",
          "name": "stdout",
          "text": [
            "2.5\n",
            "2.5\n",
            "1.5811388300841898\n"
          ]
        }
      ]
    },
    {
      "cell_type": "code",
      "source": [
        "import matplotlib.pyplot as plt\n",
        "import numpy as np\n",
        "import scipy.stats as stats\n",
        "import math\n",
        "\n",
        "mu = 0\n",
        "variance = 1\n",
        "sigma = math.sqrt(variance)\n",
        "x = np.linspace(mu - 3*sigma, mu + 3*sigma, 100)\n",
        "plt.plot(x, stats.norm.pdf(x, mu, sigma))\n",
        "plt.show()"
      ],
      "metadata": {
        "colab": {
          "base_uri": "https://localhost:8080/",
          "height": 265
        },
        "id": "NJ9p5D8stS-E",
        "outputId": "64262959-779d-4fac-c035-9312f0ec4b85"
      },
      "execution_count": null,
      "outputs": [
        {
          "output_type": "display_data",
          "data": {
            "text/plain": [
              "<Figure size 432x288 with 1 Axes>"
            ],
            "image/png": "[encoded data removed]"
          },
          "metadata": {
            "needs_background": "light"
          }
        }
      ]
    },
    {
      "cell_type": "code",
      "source": [
        "import numpy as np\n",
        "import matplotlib.pyplot as plt\n",
        "from scipy.stats import norm\n",
        "\n",
        "# x축은  -10~10사이에서  0.001간격으로 정한다\n",
        "x_axis = np.arange(-10, 10, 0.001)\n",
        "# 평균 = 0, 표준편차 = 2.\n",
        "plt.plot(x_axis, norm.pdf(x_axis,0,2))\n",
        "plt.show()"
      ],
      "metadata": {
        "colab": {
          "base_uri": "https://localhost:8080/",
          "height": 265
        },
        "id": "arXLj5e14EBr",
        "outputId": "3ea3cf0e-fecf-4603-f953-a2251d1a2db4"
      },
      "execution_count": null,
      "outputs": [
        {
          "output_type": "display_data",
          "data": {
            "text/plain": [
              "<Figure size 432x288 with 1 Axes>"
            ],
            "image/png": "[encoded data removed]"
          },
          "metadata": {
            "needs_background": "light"
          }
        }
      ]
    },
    {
      "cell_type": "code",
      "source": [
        "# 상관계수\n",
        "import math\n",
        "#평균을 계산하는함수\n",
        "def mean(x): \n",
        "  return sum(x) / len(x)\n",
        "#두리스트 곱의 합계, 즉 엑셀의 sumproduct()함수와 같다\n",
        "def sum_of_product(xs,ys): \n",
        "  return sum(x * y for x,y in zip(xs,ys)) \n",
        "#제곱합을 계산하는 함수\n",
        "def sum_of_squares(v): \n",
        "  return sum_of_product(v,v) \n",
        "#편차를 계산하는 함수\n",
        "def deviation(xs):  \n",
        "  x_mean = mean(xs) \n",
        "  return [x - x_mean for x in xs] \n",
        "#분산을 계산하는 함수\n",
        "def variance(x): \n",
        "  n = len(x) \n",
        "  deviations = deviation(x) \n",
        "  return sum_of_squares(deviations) / (n-1) \n",
        "#공분산을 계산하는함수\n",
        "def covariance(x,y): \n",
        "  n = len(x) \n",
        "  return sum_of_product(deviation(x), deviation(y)) / (n-1) \n",
        "#표준편차를 계산하는 함수\n",
        "def standard_deviation(x): \n",
        "  return math.sqrt(variance(x))#math모듈의 제곱급 함수 sqrt()를 사용 \n",
        "#상관계수를 계산하는 함수\n",
        "def correlation(xs,ys): \n",
        "  stdev_x = standard_deviation(xs) \n",
        "  stdev_y = standard_deviation(ys) \n",
        "  if stdev_x > 0 and stdev_y > 0: \n",
        "    return covariance(xs,ys) / (stdev_x * stdev_y)\n",
        "  else : \n",
        "    return 0 # 편차가 존재하지 않는다면 상관관계는 0\n",
        "#x와y의 리스트와 correlation()함수를 사용해 상관관계를 계산\n",
        "x=[41,43,38,37]\n",
        "y=[61,63,56,55]\n",
        "print(correlation(x,y))\n",
        "\n",
        "x=[35,45,35,34]\n",
        "y=[65,54,64,67]\n",
        "print(correlation(x,y))\n",
        "\n",
        "x=[35,45,35,34]\n",
        "y=[65,66,64,68]\n",
        "print(correlation(x,y))"
      ],
      "metadata": {
        "colab": {
          "base_uri": "https://localhost:8080/"
        },
        "id": "eoenWYQA4FB1",
        "outputId": "5853afda-c146-4557-dd8f-e62733659bdf"
      },
      "execution_count": null,
      "outputs": [
        {
          "output_type": "stream",
          "name": "stdout",
          "text": [
            "0.9950765901904326\n",
            "-0.9910397700847882\n",
            "0.009405128133399419\n"
          ]
        }
      ]
    },
    {
      "cell_type": "code",
      "source": [
        ""
      ],
      "metadata": {
        "id": "gEaKHha1m9zO"
      },
      "execution_count": null,
      "outputs": []
    }
  ]
}